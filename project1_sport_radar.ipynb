{
 "cells": [
  {
   "cell_type": "code",
   "execution_count": 2,
   "metadata": {},
   "outputs": [],
   "source": [
    "import json\n",
    "import pandas as pd\n",
    "import requests\n",
    "import mysql.connector\n",
    "\n",
    "# API Request\n",
    "\n",
    "url = \"https://api.sportradar.com/tennis/trial/v3/en/competitions.json?api_key=poXVLPnWV8ZufVVMyW2VkoXbjHjPVpF07nbAVPUL\"\n",
    "headers = {\"accept\": \"application/json\"}\n",
    "response = requests.get(url, headers=headers)\n",
    "\n",
    "# Load JSON response\n",
    "\n",
    "data=response.json()\n",
    "\n",
    "# Convert JSON to DataFrames\n",
    "\n",
    "competitions= data.get(\"competitions\", [])  \n",
    "\n",
    "# Extract categories from competitions\n",
    "\n "
    "categories = [{"category_id": c["category"]["id"], "category_name": c["category"]["name"]}for c in competitions if "category" in c]\n",

    "\n""# Convert to DataFrames\n",
    "\n"
    "df_categories = pd.DataFrame(categories).drop_duplicates()\n",

    "# Normalize JSON into DataFrames\n",
    "\n",
    "df_competitions = pd.json_normalize(competitions) \n",
    "\n",
    "# Replace NaN (Not a Number) values with None\n",
    "\n",
    "df_categories = df_categories.where(pd.notna(df_categories), None)\n",
    "df_competitions = df_competitions.where(pd.notna(df_competitions), None)\n",
    "\n",
    "# Connect to MySQL Database\n",
    "\n",
    "mydb = mysql.connector.connect(\n",
    "  host=\"localhost\",\n",
    "  user=\"root\",\n",
    "  password=\"NanDha@12345\",\n",
    "  database=\"sports_radar_api\",\n",
    "  auth_plugin='mysql_native_password'\n",
    ")\n",
    "cursor = mydb.cursor()\n",
    "\n",
    "# Insert into categories Table (if DataFrame is not empty)\n",
    "\n",
    "for index, row in df_categories.iterrows():\n",
    "    sql = \"INSERT INTO categories (category_id, category_name) VALUES (%s, %s) ON DUPLICATE KEY UPDATE category_name = VALUES(category_name)\"\n",
    "    values = (row['category_id'], row['category_name'])\n",
    "    cursor.execute(sql, values)\n",
    "\n",
    "# Insert into competitions Table (if DataFrame is not empty)\n",
    "\n",
    "for index, row in df_competitions.iterrows():\n",
    "    sql = \"\"\"INSERT INTO competitions (competition_id, competition_name, parent_id, type, gender, category_id)\n",
    "             VALUES (%s, %s, %s, %s, %s, %s)\n",
    "             ON DUPLICATE KEY UPDATE \n",
    "             competition_name = VALUES(competition_name),\n",
    "             parent_id = VALUES(parent_id),\n",
    "             type = VALUES(type),\n",
    "             gender = VALUES(gender),\n",
    "             category_id = VALUES(category_id)\"\"\"\n",
    "    \n",
    "    values = (\n",
    "    row.get('id', None),\n",
    "    row.get('name', None),\n",
    "    row.get('parent_id', None),\n",
    "    row.get('type', None),\n",
    "    row.get('gender', None),\n",
    "    row.get('category.id', None))\n",
    "    cursor.execute(sql, values)\n",
    "\n",
    "# Commit Changes & Close Connection\n",
    "\n",
    "mydb.commit()\n",
    "cursor.close()\n",
    "mydb.close()\n",
    "\n"
   ]
  }
 ],
 "metadata": {
  "kernelspec": {
   "display_name": "myenv",
   "language": "python",
   "name": "python3"
  },
  "language_info": {
   "codemirror_mode": {
    "name": "ipython",
    "version": 3
   },
   "file_extension": ".py",
   "mimetype": "text/x-python",
   "name": "python",
   "nbconvert_exporter": "python",
   "pygments_lexer": "ipython3",
   "version": "3.12.7"
  }
 },
 "nbformat": 4,
 "nbformat_minor": 2
}import json
import pandas as pd
import requests
import mysql.connector

# API Request

url = "https://api.sportradar.com/tennis/trial/v3/en/competitions.json?api_key=poXVLPnWV8ZufVVMyW2VkoXbjHjPVpF07nbAVPUL"
headers = {"accept": "application/json"}
response = requests.get(url, headers=headers)

# Load JSON response

data=response.json()

# Convert JSON to DataFrames

#categories= data.get("categories", [])  
competitions= data.get("competitions", [])  


# Extract categories from competitions
categories = [
    {"category_id": c["category"]["id"], "category_name": c["category"]["name"]}
    for c in competitions if "category" in c
]

# Convert to DataFrames
df_categories = pd.DataFrame(categories).drop_duplicates() 

# Normalize JSON into DataFrames

df_competitions = pd.json_normalize(competitions) 


# Replace NaN (Not a Number) values with None

df_categories = df_categories.where(pd.notna(df_categories), None)
df_competitions = df_competitions.where(pd.notna(df_competitions), None)

# Connect to MySQL Database

mydb = mysql.connector.connect(
  host="localhost",
  user="root",
  password="NanDha@12345",
  database="sports_radar_api",
  auth_plugin='mysql_native_password'
)
cursor = mydb.cursor()

# Insert into categories Table (if DataFrame is not empty)

for index, row in df_categories.iterrows():
    sql = "INSERT INTO categories (category_id, category_name) VALUES (%s, %s) ON DUPLICATE KEY UPDATE category_name = VALUES(category_name)"
    values = (row['category_id'], row['category_name'])
    cursor.execute(sql, values)

# Insert into competitions Table (if DataFrame is not empty)

for index, row in df_competitions.iterrows():
    sql = """INSERT INTO competitions (competition_id, competition_name, parent_id, type, gender, category_id)
             VALUES (%s, %s, %s, %s, %s, %s)
             ON DUPLICATE KEY UPDATE 
             competition_name = VALUES(competition_name),
             parent_id = VALUES(parent_id),
             type = VALUES(type),
             gender = VALUES(gender),
             category_id = VALUES(category_id)"""
    
    values = (
    row.get('id', None),
    row.get('name', None),
    row.get('parent_id', None),
    row.get('type', None),
    row.get('gender', None),
    row.get('category.id', None))
    cursor.execute(sql, values)

# Commit Changes & Close Connection

mydb.commit()
cursor.close()
mydb.close()

